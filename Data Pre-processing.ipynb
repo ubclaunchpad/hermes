{
 "cells": [
  {
   "cell_type": "code",
   "execution_count": 5,
   "metadata": {},
   "outputs": [],
   "source": [
    "# imports\n",
    "import sys\n",
    "import os\n",
    "from os import path\n",
    "from glob import glob\n",
    "import numpy as np\n",
    "import pandas as pd\n",
    "import soundfile as sf\n",
    "from sox import Transformer\n",
    "import librosa.display\n",
    "\n",
    "# first transfrom mp3 files into wav files using command line\n",
    "# go to data directory and type the following into command line:\n",
    "# for i in *.mp3\n",
    "# do\n",
    "#     lame --decode \"$i\" \"waves/$(basename -s .mp3 \"$i\").wav\"\n",
    "# done\n",
    "# this will put the corresponding wav files in a new directory called waves\n",
    "\n",
    "# define variables\n",
    "data_dir = path.abspath('cv_corpus_v1/cv-valid-test/waves')"
   ]
  },
  {
   "cell_type": "code",
   "execution_count": 6,
   "metadata": {},
   "outputs": [
    {
     "name": "stdout",
     "output_type": "stream",
     "text": [
      "                          filename  \\\n",
      "0                         filename   \n",
      "1  cv-valid-test/sample-000000.mp3   \n",
      "2  cv-valid-test/sample-000001.mp3   \n",
      "3  cv-valid-test/sample-000002.mp3   \n",
      "4  cv-valid-test/sample-000003.mp3   \n",
      "\n",
      "                                                text  \n",
      "0                                               text  \n",
      "1         without the dataset the article is useless  \n",
      "2                              i've got to go to him  \n",
      "3                                    and you know it  \n",
      "4  down below in the darkness were hundreds of pe...  \n"
     ]
    }
   ],
   "source": [
    "# read csv file\n",
    "df = pd.read_csv(\n",
    "    'cv_corpus_v1/cv-valid-test.csv',\n",
    "    sep=',',\n",
    "    usecols=[0, 1],\n",
    "    names=['filename', 'text'],\n",
    "    engine='python'\n",
    ")\n",
    "\n",
    "print(df.head())"
   ]
  },
  {
   "cell_type": "code",
   "execution_count": null,
   "metadata": {},
   "outputs": [],
   "source": [
    "# change audio file to 16k sample rate\n",
    "for wav_file in glob(path.join(data_dir, '*.wav')):\n",
    "    new_file = path.splitext(wav_file)[0] + \"k16.wav\"\n",
    "    transformer = Transformer()\n",
    "    transformer.convert(samplerate= sample_rate)\n",
    "    transformer.build(wav_file, new_file)\n",
    "\n",
    "# remove old files\n",
    "for item in glob(path.join(data_dir, '*.wav')):\n",
    "    if item.endswith(\"k16.wav\"):\n",
    "        continue\n",
    "    else:\n",
    "        os.remove(item)\n",
    "\n",
    "# rename files to remove k16\n",
    "for item in glob(path.join(data_dir, '*.wav')):\n",
    "    os.rename(item, item.replace('k16', ''))\n"
   ]
  },
  {
   "cell_type": "code",
   "execution_count": 7,
   "metadata": {},
   "outputs": [],
   "source": [
    "# read audio files\n",
    "X = []\n",
    "Y = []\n",
    "\n",
    "for wav_file in glob(path.join(data_dir, '*.wav')):\n",
    "    # read signal and sample_rate from wav file, index is corresponding row number in df\n",
    "    index = int(wav_file[-10:-4]) + 1\n",
    "    signal, sample_rate = sf.read(wav_file)\n",
    "    \n",
    "    # generate chroma spectogram using params\n",
    "    chroma = librosa.feature.melspectrogram(y=signal, sr=sample_rate,\n",
    "           n_fft = 400, hop_length = 160)\n",
    "    \n",
    "    # get the transpose matrix\n",
    "    chroma_t = chroma.\n",
    "    \n",
    "    # add all spectograms and text to python lists\n",
    "    X.append(chroma_t)\n",
    "    Y.append(df['text'][index])"
   ]
  }
 ],
 "metadata": {
  "kernelspec": {
   "display_name": "Python 3",
   "language": "python",
   "name": "python3"
  },
  "language_info": {
   "codemirror_mode": {
    "name": "ipython",
    "version": 3
   },
   "file_extension": ".py",
   "mimetype": "text/x-python",
   "name": "python",
   "nbconvert_exporter": "python",
   "pygments_lexer": "ipython3",
   "version": "3.6.5"
  }
 },
 "nbformat": 4,
 "nbformat_minor": 2
}
