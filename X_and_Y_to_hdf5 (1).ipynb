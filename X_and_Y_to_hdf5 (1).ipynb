{
  "nbformat": 4,
  "nbformat_minor": 0,
  "metadata": {
    "colab": {
      "name": "X and Y to hdf5",
      "version": "0.3.2",
      "views": {},
      "default_view": {},
      "provenance": [],
      "collapsed_sections": []
    },
    "kernelspec": {
      "name": "python3",
      "display_name": "Python 3"
    },
    "accelerator": "GPU"
  },
  "cells": [
    {
      "metadata": {
        "id": "A9qLWNdXVcDX",
        "colab_type": "code",
        "colab": {
          "autoexec": {
            "startup": false,
            "wait_interval": 0
          },
          "base_uri": "https://localhost:8080/",
          "height": 242
        },
        "outputId": "e9725e05-db7d-46e5-e969-c47213ed335b",
        "executionInfo": {
          "status": "ok",
          "timestamp": 1531537022306,
          "user_tz": 420,
          "elapsed": 3919,
          "user": {
            "displayName": "Junk Spam",
            "photoUrl": "https://lh3.googleusercontent.com/a/default-user=s128",
            "userId": "116834004573419171519"
          }
        }
      },
      "cell_type": "code",
      "source": [
        "!pip install deepdish"
      ],
      "execution_count": 5,
      "outputs": [
        {
          "output_type": "stream",
          "text": [
            "Collecting deepdish\n",
            "  Downloading https://files.pythonhosted.org/packages/6e/39/2a47c852651982bc5eb39212ac110284dd20126bdc7b49bde401a0139f5d/deepdish-0.3.6-py2.py3-none-any.whl\n",
            "Requirement already satisfied: scipy in /usr/local/lib/python3.6/dist-packages (from deepdish) (0.19.1)\n",
            "Requirement already satisfied: numpy in /usr/local/lib/python3.6/dist-packages (from deepdish) (1.14.5)\n",
            "Collecting tables (from deepdish)\n",
            "\u001b[?25l  Downloading https://files.pythonhosted.org/packages/d7/1b/21f4c7f296b718575c17ef25e61c05742a283c45077b4c8d5a190b3e0b59/tables-3.4.4-cp36-cp36m-manylinux1_x86_64.whl (3.8MB)\n",
            "\u001b[K    100% |████████████████████████████████| 3.8MB 4.8MB/s \n",
            "\u001b[?25hRequirement already satisfied: six>=1.9.0 in /usr/local/lib/python3.6/dist-packages (from tables->deepdish) (1.11.0)\n",
            "Collecting numexpr>=2.5.2 (from tables->deepdish)\n",
            "\u001b[?25l  Downloading https://files.pythonhosted.org/packages/5b/5c/996afde0914a86e519bb1e716f6bf521dbbe1f3f23b579cb91b0f3b509a2/numexpr-2.6.5-cp36-cp36m-manylinux1_x86_64.whl (166kB)\n",
            "\u001b[K    100% |████████████████████████████████| 174kB 29.8MB/s \n",
            "\u001b[?25hInstalling collected packages: numexpr, tables, deepdish\n",
            "Successfully installed deepdish-0.3.6 numexpr-2.6.5 tables-3.4.4\n"
          ],
          "name": "stdout"
        }
      ]
    },
    {
      "metadata": {
        "id": "yHFcpqOFtNTe",
        "colab_type": "code",
        "colab": {
          "autoexec": {
            "startup": false,
            "wait_interval": 0
          },
          "base_uri": "https://localhost:8080/",
          "height": 332
        },
        "outputId": "85853b6b-7f69-4d64-c5fa-eab2f9f64f9e",
        "executionInfo": {
          "status": "ok",
          "timestamp": 1531536944328,
          "user_tz": 420,
          "elapsed": 44864,
          "user": {
            "displayName": "Junk Spam",
            "photoUrl": "https://lh3.googleusercontent.com/a/default-user=s128",
            "userId": "116834004573419171519"
          }
        }
      },
      "cell_type": "code",
      "source": [
        "!pip3 install torch torchvision"
      ],
      "execution_count": 3,
      "outputs": [
        {
          "output_type": "stream",
          "text": [
            "Collecting torch\n",
            "\u001b[?25l  Downloading https://files.pythonhosted.org/packages/69/43/380514bd9663f1bf708abeb359b8b48d3fabb1c8e95bb3427a980a064c57/torch-0.4.0-cp36-cp36m-manylinux1_x86_64.whl (484.0MB)\n",
            "\u001b[K    100% |████████████████████████████████| 484.0MB 32kB/s \n",
            "tcmalloc: large alloc 1073750016 bytes == 0x5c062000 @  0x7fcfece981c4 0x46d6a4 0x5fcbcc 0x4c494d 0x54f3c4 0x553aaf 0x54e4c8 0x54f4f6 0x553aaf 0x54efc1 0x54f24d 0x553aaf 0x54efc1 0x54f24d 0x553aaf 0x54efc1 0x54f24d 0x551ee0 0x54e4c8 0x54f4f6 0x553aaf 0x54efc1 0x54f24d 0x551ee0 0x54efc1 0x54f24d 0x551ee0 0x54e4c8 0x54f4f6 0x553aaf 0x54e4c8\n",
            "\u001b[?25hCollecting torchvision\n",
            "\u001b[?25l  Downloading https://files.pythonhosted.org/packages/ca/0d/f00b2885711e08bd71242ebe7b96561e6f6d01fdb4b9dcf4d37e2e13c5e1/torchvision-0.2.1-py2.py3-none-any.whl (54kB)\n",
            "\u001b[K    100% |████████████████████████████████| 61kB 14.0MB/s \n",
            "\u001b[?25hRequirement already satisfied: six in /usr/local/lib/python3.6/dist-packages (from torchvision) (1.11.0)\n",
            "Requirement already satisfied: numpy in /usr/local/lib/python3.6/dist-packages (from torchvision) (1.14.5)\n",
            "Collecting pillow>=4.1.1 (from torchvision)\n",
            "\u001b[?25l  Downloading https://files.pythonhosted.org/packages/d1/24/f53ff6b61b3d728b90934bddb4f03f8ab584a7f49299bf3bde56e2952612/Pillow-5.2.0-cp36-cp36m-manylinux1_x86_64.whl (2.0MB)\n",
            "\u001b[K    100% |████████████████████████████████| 2.0MB 2.2MB/s \n",
            "\u001b[?25hInstalling collected packages: torch, pillow, torchvision\n",
            "  Found existing installation: Pillow 4.0.0\n",
            "    Uninstalling Pillow-4.0.0:\n",
            "      Successfully uninstalled Pillow-4.0.0\n",
            "Successfully installed pillow-5.2.0 torch-0.4.0 torchvision-0.2.1\n"
          ],
          "name": "stdout"
        }
      ]
    },
    {
      "metadata": {
        "id": "XTzaOYcUPK6u",
        "colab_type": "code",
        "colab": {
          "autoexec": {
            "startup": false,
            "wait_interval": 0
          }
        }
      },
      "cell_type": "code",
      "source": [
        "import numpy as np\n",
        "import random\n",
        "import deepdish as dd\n",
        "import string\n",
        "import h5py\n",
        "from torch.utils.data import Dataset, DataLoader\n",
        "from torchvision import transforms, utils"
      ],
      "execution_count": 0,
      "outputs": []
    },
    {
      "metadata": {
        "id": "7jqipT6vQEU0",
        "colab_type": "code",
        "colab": {
          "autoexec": {
            "startup": false,
            "wait_interval": 0
          }
        }
      },
      "cell_type": "code",
      "source": [
        "N = 5\n",
        "X = []\n",
        "for i in range(0,N):\n",
        "  rand = random.randint(0, 10)\n",
        "  np_a = np.array([[rand for x in range(rand)] for y in range(rand)])\n",
        "  X.append(np_a)  \n",
        "\n",
        "Y = [''.join(random.choices(string.ascii_uppercase + string.digits, k=N*5)) for i in range(0, N)]\n",
        "dd.io.save('test.h5', (X, Y))"
      ],
      "execution_count": 0,
      "outputs": []
    },
    {
      "metadata": {
        "id": "YSVLOngGQkD0",
        "colab_type": "code",
        "colab": {
          "autoexec": {
            "startup": false,
            "wait_interval": 0
          },
          "base_uri": "https://localhost:8080/",
          "height": 364
        },
        "outputId": "6dcae477-1430-4221-88d0-7980fd978102",
        "executionInfo": {
          "status": "ok",
          "timestamp": 1531537105452,
          "user_tz": 420,
          "elapsed": 241,
          "user": {
            "displayName": "Junk Spam",
            "photoUrl": "https://lh3.googleusercontent.com/a/default-user=s128",
            "userId": "116834004573419171519"
          }
        }
      },
      "cell_type": "code",
      "source": [
        "print((X,Y))\n"
      ],
      "execution_count": 18,
      "outputs": [
        {
          "output_type": "stream",
          "text": [
            "([array([], dtype=float64), array([[3, 3, 3],\n",
            "       [3, 3, 3],\n",
            "       [3, 3, 3]]), array([[8, 8, 8, 8, 8, 8, 8, 8],\n",
            "       [8, 8, 8, 8, 8, 8, 8, 8],\n",
            "       [8, 8, 8, 8, 8, 8, 8, 8],\n",
            "       [8, 8, 8, 8, 8, 8, 8, 8],\n",
            "       [8, 8, 8, 8, 8, 8, 8, 8],\n",
            "       [8, 8, 8, 8, 8, 8, 8, 8],\n",
            "       [8, 8, 8, 8, 8, 8, 8, 8],\n",
            "       [8, 8, 8, 8, 8, 8, 8, 8]]), array([[7, 7, 7, 7, 7, 7, 7],\n",
            "       [7, 7, 7, 7, 7, 7, 7],\n",
            "       [7, 7, 7, 7, 7, 7, 7],\n",
            "       [7, 7, 7, 7, 7, 7, 7],\n",
            "       [7, 7, 7, 7, 7, 7, 7],\n",
            "       [7, 7, 7, 7, 7, 7, 7],\n",
            "       [7, 7, 7, 7, 7, 7, 7]]), array([[5, 5, 5, 5, 5],\n",
            "       [5, 5, 5, 5, 5],\n",
            "       [5, 5, 5, 5, 5],\n",
            "       [5, 5, 5, 5, 5],\n",
            "       [5, 5, 5, 5, 5]])], ['40ALKPQ6TZFU22JRW7BJQ73C3', 'S6UIKIAXC0Z836V7WTD0TR94S', 'HLWV03H01AXJG5RZF6Y4QLWQP', 'N2I98SLDWMNF8WZGAPXW7EV5X', '85H2WGK33QXJTVY0TG701LLEG'])\n"
          ],
          "name": "stdout"
        }
      ]
    },
    {
      "metadata": {
        "id": "N6C1k-JrWQQf",
        "colab_type": "code",
        "colab": {
          "autoexec": {
            "startup": false,
            "wait_interval": 0
          },
          "base_uri": "https://localhost:8080/",
          "height": 450
        },
        "outputId": "4b0821ea-4253-4ecf-e5fc-6734038003db",
        "executionInfo": {
          "status": "ok",
          "timestamp": 1531537109600,
          "user_tz": 420,
          "elapsed": 243,
          "user": {
            "displayName": "Junk Spam",
            "photoUrl": "https://lh3.googleusercontent.com/a/default-user=s128",
            "userId": "116834004573419171519"
          }
        }
      },
      "cell_type": "code",
      "source": [
        "recreation = dd.io.load('test.h5', '/')\n",
        "recreation"
      ],
      "execution_count": 19,
      "outputs": [
        {
          "output_type": "execute_result",
          "data": {
            "text/plain": [
              "{'data': ([array([], dtype=float64), array([[3, 3, 3],\n",
              "          [3, 3, 3],\n",
              "          [3, 3, 3]]), array([[8, 8, 8, 8, 8, 8, 8, 8],\n",
              "          [8, 8, 8, 8, 8, 8, 8, 8],\n",
              "          [8, 8, 8, 8, 8, 8, 8, 8],\n",
              "          [8, 8, 8, 8, 8, 8, 8, 8],\n",
              "          [8, 8, 8, 8, 8, 8, 8, 8],\n",
              "          [8, 8, 8, 8, 8, 8, 8, 8],\n",
              "          [8, 8, 8, 8, 8, 8, 8, 8],\n",
              "          [8, 8, 8, 8, 8, 8, 8, 8]]), array([[7, 7, 7, 7, 7, 7, 7],\n",
              "          [7, 7, 7, 7, 7, 7, 7],\n",
              "          [7, 7, 7, 7, 7, 7, 7],\n",
              "          [7, 7, 7, 7, 7, 7, 7],\n",
              "          [7, 7, 7, 7, 7, 7, 7],\n",
              "          [7, 7, 7, 7, 7, 7, 7],\n",
              "          [7, 7, 7, 7, 7, 7, 7]]), array([[5, 5, 5, 5, 5],\n",
              "          [5, 5, 5, 5, 5],\n",
              "          [5, 5, 5, 5, 5],\n",
              "          [5, 5, 5, 5, 5],\n",
              "          [5, 5, 5, 5, 5]])],\n",
              "  ['40ALKPQ6TZFU22JRW7BJQ73C3',\n",
              "   'S6UIKIAXC0Z836V7WTD0TR94S',\n",
              "   'HLWV03H01AXJG5RZF6Y4QLWQP',\n",
              "   'N2I98SLDWMNF8WZGAPXW7EV5X',\n",
              "   '85H2WGK33QXJTVY0TG701LLEG'])}"
            ]
          },
          "metadata": {
            "tags": []
          },
          "execution_count": 19
        }
      ]
    },
    {
      "metadata": {
        "id": "UpVt4IJ0rd_T",
        "colab_type": "code",
        "colab": {
          "autoexec": {
            "startup": false,
            "wait_interval": 0
          },
          "base_uri": "https://localhost:8080/",
          "height": 34
        },
        "outputId": "9f7ace7a-2714-4ab5-c47a-c4854a15a4c1",
        "executionInfo": {
          "status": "ok",
          "timestamp": 1531537112836,
          "user_tz": 420,
          "elapsed": 249,
          "user": {
            "displayName": "Junk Spam",
            "photoUrl": "https://lh3.googleusercontent.com/a/default-user=s128",
            "userId": "116834004573419171519"
          }
        }
      },
      "cell_type": "code",
      "source": [
        "len(recreation['data'][1])"
      ],
      "execution_count": 20,
      "outputs": [
        {
          "output_type": "execute_result",
          "data": {
            "text/plain": [
              "5"
            ]
          },
          "metadata": {
            "tags": []
          },
          "execution_count": 20
        }
      ]
    },
    {
      "metadata": {
        "id": "UZDxaavMXMJI",
        "colab_type": "code",
        "colab": {
          "autoexec": {
            "startup": false,
            "wait_interval": 0
          }
        }
      },
      "cell_type": "code",
      "source": [
        "class XY(Dataset):\n",
        "    \"\"\"X to Y dataset.\"\"\"\n",
        "\n",
        "    def __init__(self, hdf5_location):\n",
        "\n",
        "        self.hdf5 = dd.io.load(hdf5_location, '/')['data']\n",
        "\n",
        "    def __len__(self):\n",
        "        return len(self.hdf5[1])\n",
        "\n",
        "    def __getitem__(self, idx):\n",
        "        return (self.hdf5[0][idx], self.hdf5[1][idx])"
      ],
      "execution_count": 0,
      "outputs": []
    },
    {
      "metadata": {
        "id": "06_fJIf_ucwN",
        "colab_type": "code",
        "colab": {
          "autoexec": {
            "startup": false,
            "wait_interval": 0
          }
        }
      },
      "cell_type": "code",
      "source": [
        "dataset = XY('test.h5')"
      ],
      "execution_count": 0,
      "outputs": []
    },
    {
      "metadata": {
        "id": "L3NESI4DvNR9",
        "colab_type": "code",
        "colab": {
          "autoexec": {
            "startup": false,
            "wait_interval": 0
          },
          "base_uri": "https://localhost:8080/",
          "height": 138
        },
        "outputId": "6fa38dae-0d37-421b-817b-b112d27650d3",
        "executionInfo": {
          "status": "ok",
          "timestamp": 1531538217712,
          "user_tz": 420,
          "elapsed": 255,
          "user": {
            "displayName": "Junk Spam",
            "photoUrl": "https://lh3.googleusercontent.com/a/default-user=s128",
            "userId": "116834004573419171519"
          }
        }
      },
      "cell_type": "code",
      "source": [
        "len(dataset), dataset[3]"
      ],
      "execution_count": 43,
      "outputs": [
        {
          "output_type": "execute_result",
          "data": {
            "text/plain": [
              "(5, (array([[7, 7, 7, 7, 7, 7, 7],\n",
              "         [7, 7, 7, 7, 7, 7, 7],\n",
              "         [7, 7, 7, 7, 7, 7, 7],\n",
              "         [7, 7, 7, 7, 7, 7, 7],\n",
              "         [7, 7, 7, 7, 7, 7, 7],\n",
              "         [7, 7, 7, 7, 7, 7, 7],\n",
              "         [7, 7, 7, 7, 7, 7, 7]]), 'N2I98SLDWMNF8WZGAPXW7EV5X'))"
            ]
          },
          "metadata": {
            "tags": []
          },
          "execution_count": 43
        }
      ]
    },
    {
      "metadata": {
        "id": "flPR82lwveMD",
        "colab_type": "code",
        "colab": {
          "autoexec": {
            "startup": false,
            "wait_interval": 0
          }
        }
      },
      "cell_type": "code",
      "source": [
        ""
      ],
      "execution_count": 0,
      "outputs": []
    }
  ]
}